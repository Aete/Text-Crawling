{
 "cells": [
  {
   "cell_type": "code",
   "execution_count": 1,
   "metadata": {},
   "outputs": [],
   "source": [
    "with open('test.txt', 'r', encoding='UTF8') as f:\n",
    "    s = f.read()\n"
   ]
  },
  {
   "cell_type": "code",
   "execution_count": 3,
   "metadata": {},
   "outputs": [],
   "source": [
    "from bs4 import BeautifulSoup "
   ]
  },
  {
   "cell_type": "code",
   "execution_count": 12,
   "metadata": {},
   "outputs": [],
   "source": [
    "import pandas as pd"
   ]
  },
  {
   "cell_type": "code",
   "execution_count": 4,
   "metadata": {},
   "outputs": [],
   "source": [
    "soup = BeautifulSoup(s)"
   ]
  },
  {
   "cell_type": "code",
   "execution_count": 5,
   "metadata": {},
   "outputs": [],
   "source": [
    "title=soup.find(\"div\",{\"id\": \"hit_1\"}).select('a')[0].get_text(strip=True)"
   ]
  },
  {
   "cell_type": "code",
   "execution_count": 6,
   "metadata": {},
   "outputs": [],
   "source": [
    "nation = soup.find(\"div\",{\"id\": \"hit_1\"}).find(\"p\",{\"class\":\"infos\"}).select('span')[0].get_text(strip=True)"
   ]
  },
  {
   "cell_type": "code",
   "execution_count": 7,
   "metadata": {},
   "outputs": [],
   "source": [
    "keywords = soup.find(\"div\",{\"id\": \"hit_1\"}).find(\"p\",{\"class\":\"infos\"}).select('span')[1].get_text(strip=True)"
   ]
  },
  {
   "cell_type": "code",
   "execution_count": 8,
   "metadata": {},
   "outputs": [
    {
     "name": "stdout",
     "output_type": "stream",
     "text": [
      "e-Residency Programme\n",
      "Estonia\n",
      "Digital, Human Resources, Methods, Public Service\n"
     ]
    }
   ],
   "source": [
    "print(title)\n",
    "print(nation)\n",
    "print(keywords)"
   ]
  },
  {
   "cell_type": "code",
   "execution_count": 22,
   "metadata": {},
   "outputs": [],
   "source": [
    "table = {'title':[],\n",
    "          'nation':[],\n",
    "          'keywords':[]}"
   ]
  },
  {
   "cell_type": "code",
   "execution_count": 23,
   "metadata": {},
   "outputs": [],
   "source": [
    "for i in range(0,50):\n",
    "    index = i+1\n",
    "    id_ = \"hit_\"+str(index)\n",
    "    title=soup.find(\"div\",{\"id\": id_}).select('a')[0].get_text(strip=True)\n",
    "    nation = soup.find(\"div\",{\"id\": id_}).find(\"p\",{\"class\":\"infos\"}).select('span')[0].get_text(strip=True)\n",
    "    keywords = soup.find(\"div\",{\"id\": id_}).find(\"p\",{\"class\":\"infos\"}).select('span')[1].get_text(strip=True)\n",
    "    table['title'].append(title)\n",
    "    table['nation'].append(nation)\n",
    "    table['keywords'].append(keywords)"
   ]
  },
  {
   "cell_type": "code",
   "execution_count": 24,
   "metadata": {},
   "outputs": [],
   "source": [
    "table_df = pd.DataFrame(table)"
   ]
  },
  {
   "cell_type": "code",
   "execution_count": 25,
   "metadata": {},
   "outputs": [
    {
     "data": {
      "text/html": [
       "<div>\n",
       "<style scoped>\n",
       "    .dataframe tbody tr th:only-of-type {\n",
       "        vertical-align: middle;\n",
       "    }\n",
       "\n",
       "    .dataframe tbody tr th {\n",
       "        vertical-align: top;\n",
       "    }\n",
       "\n",
       "    .dataframe thead th {\n",
       "        text-align: right;\n",
       "    }\n",
       "</style>\n",
       "<table border=\"1\" class=\"dataframe\">\n",
       "  <thead>\n",
       "    <tr style=\"text-align: right;\">\n",
       "      <th></th>\n",
       "      <th>title</th>\n",
       "      <th>nation</th>\n",
       "      <th>keywords</th>\n",
       "    </tr>\n",
       "  </thead>\n",
       "  <tbody>\n",
       "    <tr>\n",
       "      <th>0</th>\n",
       "      <td>e-Residency Programme</td>\n",
       "      <td>Estonia</td>\n",
       "      <td>Digital, Human Resources, Methods, Public Service</td>\n",
       "    </tr>\n",
       "    <tr>\n",
       "      <th>1</th>\n",
       "      <td>#OpenCameraCosenza</td>\n",
       "      <td>Italy</td>\n",
       "      <td>Communication, Human Resources</td>\n",
       "    </tr>\n",
       "    <tr>\n",
       "      <th>2</th>\n",
       "      <td>Campus of the Future</td>\n",
       "      <td>Spain</td>\n",
       "      <td>Public Service</td>\n",
       "    </tr>\n",
       "    <tr>\n",
       "      <th>3</th>\n",
       "      <td>Social lab in Amsteldorp</td>\n",
       "      <td>Netherlands</td>\n",
       "      <td>Public Service</td>\n",
       "    </tr>\n",
       "    <tr>\n",
       "      <th>4</th>\n",
       "      <td>WaterBeep</td>\n",
       "      <td>Portugal</td>\n",
       "      <td>Public Service</td>\n",
       "    </tr>\n",
       "  </tbody>\n",
       "</table>\n",
       "</div>"
      ],
      "text/plain": [
       "                      title       nation  \\\n",
       "0     e-Residency Programme      Estonia   \n",
       "1        #OpenCameraCosenza        Italy   \n",
       "2      Campus of the Future        Spain   \n",
       "3  Social lab in Amsteldorp  Netherlands   \n",
       "4                 WaterBeep     Portugal   \n",
       "\n",
       "                                            keywords  \n",
       "0  Digital, Human Resources, Methods, Public Service  \n",
       "1                     Communication, Human Resources  \n",
       "2                                     Public Service  \n",
       "3                                     Public Service  \n",
       "4                                     Public Service  "
      ]
     },
     "execution_count": 25,
     "metadata": {},
     "output_type": "execute_result"
    }
   ],
   "source": [
    "table_df.head()"
   ]
  },
  {
   "cell_type": "code",
   "execution_count": 28,
   "metadata": {},
   "outputs": [],
   "source": [
    "table_df.to_csv('out.csv')"
   ]
  }
 ],
 "metadata": {
  "kernelspec": {
   "display_name": "Python 3",
   "language": "python",
   "name": "python3"
  },
  "language_info": {
   "codemirror_mode": {
    "name": "ipython",
    "version": 3
   },
   "file_extension": ".py",
   "mimetype": "text/x-python",
   "name": "python",
   "nbconvert_exporter": "python",
   "pygments_lexer": "ipython3",
   "version": "3.7.1"
  }
 },
 "nbformat": 4,
 "nbformat_minor": 2
}
